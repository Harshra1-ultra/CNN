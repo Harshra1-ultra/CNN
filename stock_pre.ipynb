{
  "nbformat": 4,
  "nbformat_minor": 0,
  "metadata": {
    "kernelspec": {
      "display_name": "Python 3",
      "language": "python",
      "name": "python3"
    },
    "language_info": {
      "codemirror_mode": {
        "name": "ipython",
        "version": 3
      },
      "file_extension": ".py",
      "mimetype": "text/x-python",
      "name": "python",
      "nbconvert_exporter": "python",
      "pygments_lexer": "ipython3",
      "version": "3.6.9"
    },
    "colab": {
      "name": "stock_pre.ipynb",
      "provenance": [],
      "include_colab_link": true
    }
  },
  "cells": [
    {
      "cell_type": "markdown",
      "metadata": {
        "id": "view-in-github",
        "colab_type": "text"
      },
      "source": [
        "<a href=\"https://colab.research.google.com/github/Harshra1-ultra/CNN/blob/main/stock_pre.ipynb\" target=\"_parent\"><img src=\"https://colab.research.google.com/assets/colab-badge.svg\" alt=\"Open In Colab\"/></a>"
      ]
    },
    {
      "cell_type": "markdown",
      "metadata": {
        "id": "wJftWJxvLH25"
      },
      "source": [
        "### Stock Market Prediction And Forecasting Using Stacked LSTM"
      ]
    },
    {
      "cell_type": "code",
      "metadata": {
        "id": "beL8JCgKLH2-"
      },
      "source": [
        "### Keras and Tensorflow >2.0"
      ],
      "execution_count": 1,
      "outputs": []
    },
    {
      "cell_type": "code",
      "metadata": {
        "id": "-mhfR9SOLH3B"
      },
      "source": [
        "### Data Collection\n",
        "import pandas_datareader as pdr\n",
        "key=\"\""
      ],
      "execution_count": 2,
      "outputs": []
    },
    {
      "cell_type": "code",
      "metadata": {
        "colab": {
          "base_uri": "https://localhost:8080/"
        },
        "id": "ee1iHaZnLrPV",
        "outputId": "e670a7ae-82ad-4c5b-c40c-bb9a5a80e80d"
      },
      "source": [
        "!pip install -q yfinance"
      ],
      "execution_count": 3,
      "outputs": [
        {
          "output_type": "stream",
          "name": "stdout",
          "text": [
            "\u001b[K     |████████████████████████████████| 6.3 MB 32.8 MB/s \n",
            "\u001b[?25h  Building wheel for yfinance (setup.py) ... \u001b[?25l\u001b[?25hdone\n"
          ]
        }
      ]
    },
    {
      "cell_type": "code",
      "metadata": {
        "colab": {
          "base_uri": "https://localhost:8080/"
        },
        "id": "Pc24zYajLvHQ",
        "outputId": "98438175-1ebd-4f73-c4d5-95af3d1fa18a"
      },
      "source": [
        "from datetime import datetime\n",
        "import yfinance as yf\n",
        "import pandas_datareader.data as pdr\n",
        "\n",
        "\n",
        "yf.pdr_override()\n",
        "\n",
        "start = datetime.strptime('2000-01-01', '%Y-%m-%d')\n",
        "end = datetime.strptime('2021-09-04', '%Y-%m-%d')\n",
        "\n",
        "df = pdr.get_data_yahoo(\"IOC.NS\", start, end)\n"
      ],
      "execution_count": 4,
      "outputs": [
        {
          "output_type": "stream",
          "name": "stdout",
          "text": [
            "\r[*********************100%***********************]  1 of 1 completed\n"
          ]
        }
      ]
    },
    {
      "cell_type": "code",
      "metadata": {
        "colab": {
          "base_uri": "https://localhost:8080/",
          "height": 235
        },
        "id": "5Br0xja5LH3G",
        "outputId": "ac75c77d-9fa0-4a13-ac0f-63259d42ed3a"
      },
      "source": [
        "df.head()"
      ],
      "execution_count": 5,
      "outputs": [
        {
          "output_type": "execute_result",
          "data": {
            "text/html": [
              "<div>\n",
              "<style scoped>\n",
              "    .dataframe tbody tr th:only-of-type {\n",
              "        vertical-align: middle;\n",
              "    }\n",
              "\n",
              "    .dataframe tbody tr th {\n",
              "        vertical-align: top;\n",
              "    }\n",
              "\n",
              "    .dataframe thead th {\n",
              "        text-align: right;\n",
              "    }\n",
              "</style>\n",
              "<table border=\"1\" class=\"dataframe\">\n",
              "  <thead>\n",
              "    <tr style=\"text-align: right;\">\n",
              "      <th></th>\n",
              "      <th>Open</th>\n",
              "      <th>High</th>\n",
              "      <th>Low</th>\n",
              "      <th>Close</th>\n",
              "      <th>Adj Close</th>\n",
              "      <th>Volume</th>\n",
              "    </tr>\n",
              "    <tr>\n",
              "      <th>Date</th>\n",
              "      <th></th>\n",
              "      <th></th>\n",
              "      <th></th>\n",
              "      <th></th>\n",
              "      <th></th>\n",
              "      <th></th>\n",
              "    </tr>\n",
              "  </thead>\n",
              "  <tbody>\n",
              "    <tr>\n",
              "      <th>2000-01-03</th>\n",
              "      <td>21.666666</td>\n",
              "      <td>22.770832</td>\n",
              "      <td>20.833332</td>\n",
              "      <td>22.570833</td>\n",
              "      <td>8.476385</td>\n",
              "      <td>284400</td>\n",
              "    </tr>\n",
              "    <tr>\n",
              "      <th>2000-01-04</th>\n",
              "      <td>21.666666</td>\n",
              "      <td>22.333332</td>\n",
              "      <td>21.174999</td>\n",
              "      <td>22.033333</td>\n",
              "      <td>8.274528</td>\n",
              "      <td>292800</td>\n",
              "    </tr>\n",
              "    <tr>\n",
              "      <th>2000-01-05</th>\n",
              "      <td>22.075001</td>\n",
              "      <td>22.083332</td>\n",
              "      <td>21.416666</td>\n",
              "      <td>21.775000</td>\n",
              "      <td>8.177512</td>\n",
              "      <td>226800</td>\n",
              "    </tr>\n",
              "    <tr>\n",
              "      <th>2000-01-06</th>\n",
              "      <td>21.500000</td>\n",
              "      <td>21.916666</td>\n",
              "      <td>21.337500</td>\n",
              "      <td>21.674999</td>\n",
              "      <td>8.139956</td>\n",
              "      <td>217800</td>\n",
              "    </tr>\n",
              "    <tr>\n",
              "      <th>2000-01-07</th>\n",
              "      <td>21.658333</td>\n",
              "      <td>22.250000</td>\n",
              "      <td>21.104166</td>\n",
              "      <td>22.037500</td>\n",
              "      <td>8.276091</td>\n",
              "      <td>211800</td>\n",
              "    </tr>\n",
              "  </tbody>\n",
              "</table>\n",
              "</div>"
            ],
            "text/plain": [
              "                 Open       High        Low      Close  Adj Close  Volume\n",
              "Date                                                                     \n",
              "2000-01-03  21.666666  22.770832  20.833332  22.570833   8.476385  284400\n",
              "2000-01-04  21.666666  22.333332  21.174999  22.033333   8.274528  292800\n",
              "2000-01-05  22.075001  22.083332  21.416666  21.775000   8.177512  226800\n",
              "2000-01-06  21.500000  21.916666  21.337500  21.674999   8.139956  217800\n",
              "2000-01-07  21.658333  22.250000  21.104166  22.037500   8.276091  211800"
            ]
          },
          "metadata": {},
          "execution_count": 5
        }
      ]
    },
    {
      "cell_type": "code",
      "metadata": {
        "colab": {
          "base_uri": "https://localhost:8080/",
          "height": 235
        },
        "id": "Z9_zi1FALH3K",
        "outputId": "a8c67a1d-d9d0-415d-fa99-791a57eb0281"
      },
      "source": [
        "df.tail()"
      ],
      "execution_count": 6,
      "outputs": [
        {
          "output_type": "execute_result",
          "data": {
            "text/html": [
              "<div>\n",
              "<style scoped>\n",
              "    .dataframe tbody tr th:only-of-type {\n",
              "        vertical-align: middle;\n",
              "    }\n",
              "\n",
              "    .dataframe tbody tr th {\n",
              "        vertical-align: top;\n",
              "    }\n",
              "\n",
              "    .dataframe thead th {\n",
              "        text-align: right;\n",
              "    }\n",
              "</style>\n",
              "<table border=\"1\" class=\"dataframe\">\n",
              "  <thead>\n",
              "    <tr style=\"text-align: right;\">\n",
              "      <th></th>\n",
              "      <th>Open</th>\n",
              "      <th>High</th>\n",
              "      <th>Low</th>\n",
              "      <th>Close</th>\n",
              "      <th>Adj Close</th>\n",
              "      <th>Volume</th>\n",
              "    </tr>\n",
              "    <tr>\n",
              "      <th>Date</th>\n",
              "      <th></th>\n",
              "      <th></th>\n",
              "      <th></th>\n",
              "      <th></th>\n",
              "      <th></th>\n",
              "      <th></th>\n",
              "    </tr>\n",
              "  </thead>\n",
              "  <tbody>\n",
              "    <tr>\n",
              "      <th>2021-08-30</th>\n",
              "      <td>106.400002</td>\n",
              "      <td>108.199997</td>\n",
              "      <td>106.099998</td>\n",
              "      <td>107.349998</td>\n",
              "      <td>107.349998</td>\n",
              "      <td>12826846</td>\n",
              "    </tr>\n",
              "    <tr>\n",
              "      <th>2021-08-31</th>\n",
              "      <td>108.000000</td>\n",
              "      <td>111.300003</td>\n",
              "      <td>107.400002</td>\n",
              "      <td>110.849998</td>\n",
              "      <td>110.849998</td>\n",
              "      <td>22323605</td>\n",
              "    </tr>\n",
              "    <tr>\n",
              "      <th>2021-09-01</th>\n",
              "      <td>111.000000</td>\n",
              "      <td>111.699997</td>\n",
              "      <td>109.599998</td>\n",
              "      <td>110.750000</td>\n",
              "      <td>110.750000</td>\n",
              "      <td>11800119</td>\n",
              "    </tr>\n",
              "    <tr>\n",
              "      <th>2021-09-02</th>\n",
              "      <td>109.800003</td>\n",
              "      <td>110.349998</td>\n",
              "      <td>109.000000</td>\n",
              "      <td>110.150002</td>\n",
              "      <td>110.150002</td>\n",
              "      <td>11510399</td>\n",
              "    </tr>\n",
              "    <tr>\n",
              "      <th>2021-09-03</th>\n",
              "      <td>110.699997</td>\n",
              "      <td>113.500000</td>\n",
              "      <td>110.099998</td>\n",
              "      <td>113.099998</td>\n",
              "      <td>113.099998</td>\n",
              "      <td>15271194</td>\n",
              "    </tr>\n",
              "  </tbody>\n",
              "</table>\n",
              "</div>"
            ],
            "text/plain": [
              "                  Open        High  ...   Adj Close    Volume\n",
              "Date                                ...                      \n",
              "2021-08-30  106.400002  108.199997  ...  107.349998  12826846\n",
              "2021-08-31  108.000000  111.300003  ...  110.849998  22323605\n",
              "2021-09-01  111.000000  111.699997  ...  110.750000  11800119\n",
              "2021-09-02  109.800003  110.349998  ...  110.150002  11510399\n",
              "2021-09-03  110.699997  113.500000  ...  113.099998  15271194\n",
              "\n",
              "[5 rows x 6 columns]"
            ]
          },
          "metadata": {},
          "execution_count": 6
        }
      ]
    },
    {
      "cell_type": "code",
      "metadata": {
        "id": "tiRMmZ9mLH3L"
      },
      "source": [
        "df1 = df.reset_index()['Close']"
      ],
      "execution_count": 7,
      "outputs": []
    },
    {
      "cell_type": "code",
      "metadata": {
        "id": "tn1yxPHILH3M",
        "colab": {
          "base_uri": "https://localhost:8080/"
        },
        "outputId": "1e3d9395-7660-4785-e6b6-f9da9616fc76"
      },
      "source": [
        "df1"
      ],
      "execution_count": 8,
      "outputs": [
        {
          "output_type": "execute_result",
          "data": {
            "text/plain": [
              "0        22.570833\n",
              "1        22.033333\n",
              "2        21.775000\n",
              "3        21.674999\n",
              "4        22.037500\n",
              "           ...    \n",
              "5403    107.349998\n",
              "5404    110.849998\n",
              "5405    110.750000\n",
              "5406    110.150002\n",
              "5407    113.099998\n",
              "Name: Close, Length: 5408, dtype: float64"
            ]
          },
          "metadata": {},
          "execution_count": 8
        }
      ]
    },
    {
      "cell_type": "code",
      "metadata": {
        "colab": {
          "base_uri": "https://localhost:8080/",
          "height": 282
        },
        "id": "Jx5CY3mHLH3N",
        "outputId": "956ec8e5-ae65-41fe-af83-2afabbe6b060"
      },
      "source": [
        "import matplotlib.pyplot as plt\n",
        "plt.plot(df1)"
      ],
      "execution_count": 9,
      "outputs": [
        {
          "output_type": "execute_result",
          "data": {
            "text/plain": [
              "[<matplotlib.lines.Line2D at 0x7fbcd708bb90>]"
            ]
          },
          "metadata": {},
          "execution_count": 9
        },
        {
          "output_type": "display_data",
          "data": {
            "image/png": "[encoded data removed]",
            "text/plain": [
              "<Figure size 432x288 with 1 Axes>"
            ]
          },
          "metadata": {
            "needs_background": "light"
          }
        }
      ]
    },
    {
      "cell_type": "code",
      "metadata": {
        "id": "kqsLpCpxLH3O"
      },
      "source": [
        "### LSTM are sensitive to the scale of the data. so we apply MinMax scaler "
      ],
      "execution_count": 10,
      "outputs": []
    },
    {
      "cell_type": "code",
      "metadata": {
        "id": "rpFujZ1nLH3O"
      },
      "source": [
        "import numpy as np"
      ],
      "execution_count": 11,
      "outputs": []
    },
    {
      "cell_type": "code",
      "metadata": {
        "colab": {
          "base_uri": "https://localhost:8080/"
        },
        "id": "vxYHDWxFLH3P",
        "outputId": "05fd2b4d-4ee4-42c8-bab9-6240213f8f5e"
      },
      "source": [
        "df1"
      ],
      "execution_count": 12,
      "outputs": [
        {
          "output_type": "execute_result",
          "data": {
            "text/plain": [
              "0        22.570833\n",
              "1        22.033333\n",
              "2        21.775000\n",
              "3        21.674999\n",
              "4        22.037500\n",
              "           ...    \n",
              "5403    107.349998\n",
              "5404    110.849998\n",
              "5405    110.750000\n",
              "5406    110.150002\n",
              "5407    113.099998\n",
              "Name: Close, Length: 5408, dtype: float64"
            ]
          },
          "metadata": {},
          "execution_count": 12
        }
      ]
    },
    {
      "cell_type": "code",
      "metadata": {
        "id": "qxyUibH1LH3Q"
      },
      "source": [
        "from sklearn.preprocessing import MinMaxScaler\n",
        "scaler=MinMaxScaler(feature_range=(0,1))\n",
        "df1=scaler.fit_transform(np.array(df1).reshape(-1,1))"
      ],
      "execution_count": 13,
      "outputs": []
    },
    {
      "cell_type": "code",
      "metadata": {
        "colab": {
          "base_uri": "https://localhost:8080/"
        },
        "id": "rj33VP4dLH3Q",
        "outputId": "53cef08c-7071-4046-cc2a-579359fbd323"
      },
      "source": [
        "print(df1)"
      ],
      "execution_count": 14,
      "outputs": [
        {
          "output_type": "stream",
          "name": "stdout",
          "text": [
            "[[0.06096908]\n",
            " [0.05850433]\n",
            " [0.05731973]\n",
            " ...\n",
            " [0.46532155]\n",
            " [0.46257021]\n",
            " [0.47609765]]\n"
          ]
        }
      ]
    },
    {
      "cell_type": "code",
      "metadata": {
        "id": "DEgeK57VLH3R"
      },
      "source": [
        "##splitting dataset into train and test split\n",
        "training_size=int(len(df1)*0.65)\n",
        "test_size=len(df1)-training_size\n",
        "train_data,test_data=df1[0:training_size,:],df1[training_size:len(df1),:1]"
      ],
      "execution_count": 15,
      "outputs": []
    },
    {
      "cell_type": "code",
      "metadata": {
        "colab": {
          "base_uri": "https://localhost:8080/"
        },
        "id": "YvcMVsEzLH3S",
        "outputId": "79328874-9086-4029-ec1b-5ccb599e09fd"
      },
      "source": [
        "training_size,test_size"
      ],
      "execution_count": 16,
      "outputs": [
        {
          "output_type": "execute_result",
          "data": {
            "text/plain": [
              "(3515, 1893)"
            ]
          },
          "metadata": {},
          "execution_count": 16
        }
      ]
    },
    {
      "cell_type": "code",
      "metadata": {
        "colab": {
          "base_uri": "https://localhost:8080/"
        },
        "id": "a_S24sGuLH3S",
        "outputId": "71856f93-fe6b-4161-cfac-a074ef98c5da"
      },
      "source": [
        "train_data"
      ],
      "execution_count": 17,
      "outputs": [
        {
          "output_type": "execute_result",
          "data": {
            "text/plain": [
              "array([[0.06096908],\n",
              "       [0.05850433],\n",
              "       [0.05731973],\n",
              "       ...,\n",
              "       [0.19161985],\n",
              "       [0.19597615],\n",
              "       [0.20016049]])"
            ]
          },
          "metadata": {},
          "execution_count": 17
        }
      ]
    },
    {
      "cell_type": "code",
      "metadata": {
        "id": "_WIIWkyILH3T"
      },
      "source": [
        "import numpy\n",
        "# convert an array of values into a dataset matrix\n",
        "def create_dataset(dataset, time_step=1):\n",
        "\tdataX, dataY = [], []\n",
        "\tfor i in range(len(dataset)-time_step-1):\n",
        "\t\ta = dataset[i:(i+time_step), 0]   ###i=0, 0,1,2,3-----99   100 \n",
        "\t\tdataX.append(a)\n",
        "\t\tdataY.append(dataset[i + time_step, 0])\n",
        "\treturn numpy.array(dataX), numpy.array(dataY)"
      ],
      "execution_count": 18,
      "outputs": []
    },
    {
      "cell_type": "code",
      "metadata": {
        "id": "LpMiwpXDLH3U"
      },
      "source": [
        "# reshape into X=t,t+1,t+2,t+3 and Y=t+4\n",
        "time_step = 100\n",
        "X_train, y_train = create_dataset(train_data, time_step)\n",
        "X_test, ytest = create_dataset(test_data, time_step)"
      ],
      "execution_count": 19,
      "outputs": []
    },
    {
      "cell_type": "code",
      "metadata": {
        "colab": {
          "base_uri": "https://localhost:8080/"
        },
        "id": "XFGPV21ELH3U",
        "outputId": "552bf458-0238-47dd-b03d-810b0c9f471a"
      },
      "source": [
        "print(X_train.shape), print(y_train.shape)"
      ],
      "execution_count": 20,
      "outputs": [
        {
          "output_type": "stream",
          "name": "stdout",
          "text": [
            "(3414, 100)\n",
            "(3414,)\n"
          ]
        },
        {
          "output_type": "execute_result",
          "data": {
            "text/plain": [
              "(None, None)"
            ]
          },
          "metadata": {},
          "execution_count": 20
        }
      ]
    },
    {
      "cell_type": "code",
      "metadata": {
        "colab": {
          "base_uri": "https://localhost:8080/"
        },
        "id": "EaJiN7ytLH3V",
        "outputId": "1078ec53-d826-44c3-ecdf-ccfb86fcf920"
      },
      "source": [
        "print(X_test.shape), print(ytest.shape)"
      ],
      "execution_count": 21,
      "outputs": [
        {
          "output_type": "stream",
          "name": "stdout",
          "text": [
            "(1792, 100)\n",
            "(1792,)\n"
          ]
        },
        {
          "output_type": "execute_result",
          "data": {
            "text/plain": [
              "(None, None)"
            ]
          },
          "metadata": {},
          "execution_count": 21
        }
      ]
    },
    {
      "cell_type": "code",
      "metadata": {
        "id": "7Nqp7W6dLH3V"
      },
      "source": [
        "# reshape input to be [samples, time steps, features] which is required for LSTM\n",
        "X_train =X_train.reshape(X_train.shape[0],X_train.shape[1] , 1)\n",
        "X_test = X_test.reshape(X_test.shape[0],X_test.shape[1] , 1)"
      ],
      "execution_count": 22,
      "outputs": []
    },
    {
      "cell_type": "code",
      "metadata": {
        "id": "q6XpA1lmLH3W"
      },
      "source": [
        "### Create the Stacked LSTM model\n",
        "from tensorflow.keras.models import Sequential\n",
        "from tensorflow.keras.layers import Dense\n",
        "from tensorflow.keras.layers import LSTM"
      ],
      "execution_count": 23,
      "outputs": []
    },
    {
      "cell_type": "code",
      "metadata": {
        "id": "QhvSHP-CLH3W"
      },
      "source": [
        "model=Sequential()\n",
        "model.add(LSTM(50,return_sequences=True,input_shape=(100,1)))\n",
        "model.add(LSTM(50,return_sequences=True))\n",
        "model.add(LSTM(50))\n",
        "model.add(Dense(1))\n",
        "model.compile(loss='mean_squared_error',optimizer='adam')\n"
      ],
      "execution_count": 24,
      "outputs": []
    },
    {
      "cell_type": "code",
      "metadata": {
        "colab": {
          "base_uri": "https://localhost:8080/"
        },
        "id": "jUhvyL56LH3W",
        "outputId": "e73ca936-6a5e-4ad6-868c-3b4849e9f55b"
      },
      "source": [
        "model.summary()"
      ],
      "execution_count": 25,
      "outputs": [
        {
          "output_type": "stream",
          "name": "stdout",
          "text": [
            "Model: \"sequential\"\n",
            "_________________________________________________________________\n",
            "Layer (type)                 Output Shape              Param #   \n",
            "=================================================================\n",
            "lstm (LSTM)                  (None, 100, 50)           10400     \n",
            "_________________________________________________________________\n",
            "lstm_1 (LSTM)                (None, 100, 50)           20200     \n",
            "_________________________________________________________________\n",
            "lstm_2 (LSTM)                (None, 50)                20200     \n",
            "_________________________________________________________________\n",
            "dense (Dense)                (None, 1)                 51        \n",
            "=================================================================\n",
            "Total params: 50,851\n",
            "Trainable params: 50,851\n",
            "Non-trainable params: 0\n",
            "_________________________________________________________________\n"
          ]
        }
      ]
    },
    {
      "cell_type": "code",
      "metadata": {
        "colab": {
          "base_uri": "https://localhost:8080/"
        },
        "id": "3Fj3V4tbLH3X",
        "outputId": "80060736-37fe-49b0-8327-397b74403ae9"
      },
      "source": [
        "model.fit(X_train,y_train,validation_data=(X_test,ytest),epochs=5,batch_size=64,verbose=1)"
      ],
      "execution_count": 27,
      "outputs": [
        {
          "output_type": "stream",
          "name": "stdout",
          "text": [
            "Epoch 1/5\n",
            "54/54 [==============================] - 17s 228ms/step - loss: 0.0046 - val_loss: 0.0012\n",
            "Epoch 2/5\n",
            "54/54 [==============================] - 11s 205ms/step - loss: 5.0427e-04 - val_loss: 0.0017\n",
            "Epoch 3/5\n",
            "54/54 [==============================] - 11s 205ms/step - loss: 4.8566e-04 - val_loss: 0.0022\n",
            "Epoch 4/5\n",
            "54/54 [==============================] - 11s 204ms/step - loss: 4.6757e-04 - val_loss: 0.0032\n",
            "Epoch 5/5\n",
            "54/54 [==============================] - 11s 205ms/step - loss: 4.3779e-04 - val_loss: 0.0018\n"
          ]
        },
        {
          "output_type": "execute_result",
          "data": {
            "text/plain": [
              "<keras.callbacks.History at 0x7fbc823a5e90>"
            ]
          },
          "metadata": {},
          "execution_count": 27
        }
      ]
    },
    {
      "cell_type": "code",
      "metadata": {
        "id": "SGMdngRqMZb-"
      },
      "source": [
        "model.save('stock_Predict.h5')"
      ],
      "execution_count": 28,
      "outputs": []
    },
    {
      "cell_type": "code",
      "metadata": {
        "id": "WOw1D8zSLH3Y"
      },
      "source": [
        "import tensorflow as tf"
      ],
      "execution_count": 29,
      "outputs": []
    },
    {
      "cell_type": "code",
      "metadata": {
        "colab": {
          "base_uri": "https://localhost:8080/",
          "height": 35
        },
        "id": "jDbLoZt4LH3Y",
        "outputId": "f49b533c-fc55-4554-8f9b-a1c016526807"
      },
      "source": [
        "tf.__version__"
      ],
      "execution_count": 30,
      "outputs": [
        {
          "output_type": "execute_result",
          "data": {
            "application/vnd.google.colaboratory.intrinsic+json": {
              "type": "string"
            },
            "text/plain": [
              "'2.6.0'"
            ]
          },
          "metadata": {},
          "execution_count": 30
        }
      ]
    },
    {
      "cell_type": "code",
      "metadata": {
        "id": "Vwt_-IoULH3Y"
      },
      "source": [
        "### Lets Do the prediction and check performance metrics\n",
        "train_predict=model.predict(X_train)\n",
        "test_predict=model.predict(X_test)"
      ],
      "execution_count": 31,
      "outputs": []
    },
    {
      "cell_type": "code",
      "metadata": {
        "id": "oJ4lT-sOLH3Z"
      },
      "source": [
        "##Transformback to original form\n",
        "train_predict=scaler.inverse_transform(train_predict)\n",
        "test_predict=scaler.inverse_transform(test_predict)"
      ],
      "execution_count": 32,
      "outputs": []
    },
    {
      "cell_type": "code",
      "metadata": {
        "colab": {
          "base_uri": "https://localhost:8080/"
        },
        "id": "etAc7zW_LH3Z",
        "outputId": "2bc9759b-f60c-4187-e6f1-d2b84ecfc314"
      },
      "source": [
        "### Calculate RMSE performance metrics\n",
        "import math\n",
        "from sklearn.metrics import mean_squared_error\n",
        "math.sqrt(mean_squared_error(y_train,train_predict))"
      ],
      "execution_count": 33,
      "outputs": [
        {
          "output_type": "execute_result",
          "data": {
            "text/plain": [
              "57.50103566155655"
            ]
          },
          "metadata": {},
          "execution_count": 33
        }
      ]
    },
    {
      "cell_type": "code",
      "metadata": {
        "colab": {
          "base_uri": "https://localhost:8080/"
        },
        "id": "DE_Hd6DqLH3Z",
        "outputId": "a1a142ca-067f-4bc1-df58-9f6e6e8ce04d"
      },
      "source": [
        "### Test Data RMSE\n",
        "math.sqrt(mean_squared_error(ytest,test_predict))"
      ],
      "execution_count": 34,
      "outputs": [
        {
          "output_type": "execute_result",
          "data": {
            "text/plain": [
              "127.98273519256948"
            ]
          },
          "metadata": {},
          "execution_count": 34
        }
      ]
    },
    {
      "cell_type": "code",
      "metadata": {
        "colab": {
          "base_uri": "https://localhost:8080/",
          "height": 265
        },
        "id": "Zm3lHF8zLH3a",
        "outputId": "8bcc843e-0c81-43d4-8d67-a78e65ae88e4"
      },
      "source": [
        "### Plotting \n",
        "# shift train predictions for plotting\n",
        "look_back=100\n",
        "trainPredictPlot = numpy.empty_like(df1)\n",
        "trainPredictPlot[:, :] = np.nan\n",
        "trainPredictPlot[look_back:len(train_predict)+look_back, :] = train_predict\n",
        "# shift test predictions for plotting\n",
        "testPredictPlot = numpy.empty_like(df1)\n",
        "testPredictPlot[:, :] = numpy.nan\n",
        "testPredictPlot[len(train_predict)+(look_back*2)+1:len(df1)-1, :] = test_predict\n",
        "# plot baseline and predictions\n",
        "plt.plot(scaler.inverse_transform(df1))\n",
        "plt.plot(trainPredictPlot)\n",
        "plt.plot(testPredictPlot)\n",
        "plt.show()"
      ],
      "execution_count": 35,
      "outputs": [
        {
          "output_type": "display_data",
          "data": {
            "image/png": "[encoded data removed]",
            "text/plain": [
              "<Figure size 432x288 with 1 Axes>"
            ]
          },
          "metadata": {
            "needs_background": "light"
          }
        }
      ]
    },
    {
      "cell_type": "code",
      "metadata": {
        "colab": {
          "base_uri": "https://localhost:8080/"
        },
        "id": "FiDAeNnDLH3a",
        "outputId": "f6f8fbeb-ff4b-40e0-f7f3-465e853dda34"
      },
      "source": [
        "len(test_data)"
      ],
      "execution_count": 36,
      "outputs": [
        {
          "output_type": "execute_result",
          "data": {
            "text/plain": [
              "1893"
            ]
          },
          "metadata": {},
          "execution_count": 36
        }
      ]
    },
    {
      "cell_type": "code",
      "metadata": {
        "colab": {
          "base_uri": "https://localhost:8080/"
        },
        "id": "0TloIDjxLH3b",
        "outputId": "8fe8c2c1-199a-4c55-9153-c37c4c7dc00d"
      },
      "source": [
        "x_input=test_data[341:].reshape(1,-1)\n",
        "x_input.shape\n"
      ],
      "execution_count": 37,
      "outputs": [
        {
          "output_type": "execute_result",
          "data": {
            "text/plain": [
              "(1, 1552)"
            ]
          },
          "metadata": {},
          "execution_count": 37
        }
      ]
    },
    {
      "cell_type": "code",
      "metadata": {
        "id": "xXawBNE_LH3b"
      },
      "source": [
        "temp_input=list(x_input)\n",
        "temp_input=temp_input[0].tolist()"
      ],
      "execution_count": 38,
      "outputs": []
    },
    {
      "cell_type": "code",
      "metadata": {
        "colab": {
          "base_uri": "https://localhost:8080/"
        },
        "id": "Pb7c74HnLH3b",
        "outputId": "ea682358-1a28-400c-e66a-beb4ead5d2d3"
      },
      "source": [
        "temp_input"
      ],
      "execution_count": 39,
      "outputs": [
        {
          "output_type": "execute_result",
          "data": {
            "text/plain": [
              "[0.3574458169783787,\n",
              " 0.3569299604197729,\n",
              " 0.3573885112447065,\n",
              " 0.35601282378472027,\n",
              " 0.36862316388891436,\n",
              " 0.37091595299876784,\n",
              " 0.36581451822045513,\n",
              " 0.3641522321217372,\n",
              " 0.3576751098834382,\n",
              " 0.34598187142911135,\n",
              " 0.35928005526329854,\n",
              " 0.36443883076046885,\n",
              " 0.35973860608823216,\n",
              " 0.35836295361343135,\n",
              " 0.3546944770435916,\n",
              " 0.3470709602503659,\n",
              " 0.35962395963570243,\n",
              " 0.36248994602301926,\n",
              " 0.36650232696526286,\n",
              " 0.3605984020044272,\n",
              " 0.38679352458154026,\n",
              " 0.3959073752872819,\n",
              " 0.39648057256474534,\n",
              " 0.4137337966223186,\n",
              " 0.40439068799670275,\n",
              " 0.40284304835051454,\n",
              " 0.3982574701308076,\n",
              " 0.3985440687695393,\n",
              " 0.39928921823320457,\n",
              " 0.4064541842014967,\n",
              " 0.4302418712162265,\n",
              " 0.43574458607098604,\n",
              " 0.4462913949852008,\n",
              " 0.4470938851677237,\n",
              " 0.4496732729163088,\n",
              " 0.4371202385457869,\n",
              " 0.4392983812031106,\n",
              " 0.4443425452329366,\n",
              " 0.46056402118811285,\n",
              " 0.4536283131396948,\n",
              " 0.46411785130542277,\n",
              " 0.46073597337431477,\n",
              " 0.46772898715640493,\n",
              " 0.4603347282830533,\n",
              " 0.4708242314635959,\n",
              " 0.4786770411618811,\n",
              " 0.4818869669067872,\n",
              " 0.47988077643566546,\n",
              " 0.46876073525880196,\n",
              " 0.4711681708211852,\n",
              " 0.4686460888062722,\n",
              " 0.4519660620261623,\n",
              " 0.4447437553390126,\n",
              " 0.4448010960578702,\n",
              " 0.44273756486789084,\n",
              " 0.43775077654210787,\n",
              " 0.4462913949852008,\n",
              " 0.45013182374124244,\n",
              " 0.43740683718451856,\n",
              " 0.4027284018979848,\n",
              " 0.4101799665050086,\n",
              " 0.4041613950916432,\n",
              " 0.3987733616745988,\n",
              " 0.4160838914658442,\n",
              " 0.4136764908886464,\n",
              " 0.4133898922499147,\n",
              " 0.4101226607713364,\n",
              " 0.3909205519763136,\n",
              " 0.4101226607713364,\n",
              " 0.40903357195008183,\n",
              " 0.42731857909523746,\n",
              " 0.42204515714553736,\n",
              " 0.4325920010449375,\n",
              " 0.42284764732806024,\n",
              " 0.41046656514374025,\n",
              " 0.41573998709344034,\n",
              " 0.4261721845403107,\n",
              " 0.40960676922754524,\n",
              " 0.4072566743840196,\n",
              " 0.4190072185720186,\n",
              " 0.41465089827218576,\n",
              " 0.4152240955496492,\n",
              " 0.41814742265582355,\n",
              " 0.4138484430748483,\n",
              " 0.4103519186912105,\n",
              " 0.40461994591657685,\n",
              " 0.4004929535069889,\n",
              " 0.40530778964656994,\n",
              " 0.41098245668753147,\n",
              " 0.40943481704134327,\n",
              " 0.41470823899104337,\n",
              " 0.4098933678662769,\n",
              " 0.418548667747085,\n",
              " 0.41745957892583047,\n",
              " 0.41849132702822744,\n",
              " 0.41975236803568394,\n",
              " 0.4136191501697888,\n",
              " 0.41591193927964226,\n",
              " 0.4152240955496492,\n",
              " 0.4151094840823048,\n",
              " 0.41596927999849986,\n",
              " 0.41596927999849986,\n",
              " 0.41958041584948197,\n",
              " 0.4242232998028611,\n",
              " 0.42284764732806024,\n",
              " 0.4188352663858167,\n",
              " 0.4129313064397957,\n",
              " 0.41579729282711253,\n",
              " 0.40805912958135704,\n",
              " 0.4148228854435731,\n",
              " 0.4158546335459701,\n",
              " 0.4074286265702215,\n",
              " 0.41573998709344034,\n",
              " 0.41298864715865324,\n",
              " 0.4175168846595026,\n",
              " 0.42760517773396917,\n",
              " 0.4262868309928405,\n",
              " 0.4294967217525612,\n",
              " 0.4311590078512791,\n",
              " 0.4148801911772453,\n",
              " 0.42496844926652644,\n",
              " 0.41866327921442936,\n",
              " 0.4158546335459701,\n",
              " 0.4202682595794751,\n",
              " 0.4241659940691889,\n",
              " 0.4292101231138295,\n",
              " 0.42955402748623334,\n",
              " 0.4371202385457869,\n",
              " 0.44015817711930566,\n",
              " 0.4383239738195712,\n",
              " 0.4395276741081701,\n",
              " 0.4542588511360158,\n",
              " 0.45208070847869203,\n",
              " 0.4510489253911097,\n",
              " 0.4484695376425245,\n",
              " 0.44892812345264355,\n",
              " 0.4419351096705533,\n",
              " 0.43104436139874935,\n",
              " 0.4341396057059403,\n",
              " 0.43368105488100667,\n",
              " 0.43207610950114633,\n",
              " 0.436948286359585,\n",
              " 0.4455462455215355,\n",
              " 0.4504757281136463,\n",
              " 0.44537429333533357,\n",
              " 0.456666286698399,\n",
              " 0.4534563609534929,\n",
              " 0.45397225249728407,\n",
              " 0.4545454497747475,\n",
              " 0.4514501704823711,\n",
              " 0.4508769732049077,\n",
              " 0.4456608919740652,\n",
              " 0.4487561362812562,\n",
              " 0.45414420468348604,\n",
              " 0.44634873570405836,\n",
              " 0.4649203065027602,\n",
              " 0.4743207558472337,\n",
              " 0.46365926549530373,\n",
              " 0.4696778369086691,\n",
              " 0.46520690514149193,\n",
              " 0.4618823679292415,\n",
              " 0.46096526627937423,\n",
              " 0.45660894597954144,\n",
              " 0.44657799362393247,\n",
              " 0.4354006467133968,\n",
              " 0.4332225040560731,\n",
              " 0.41969506230201176,\n",
              " 0.411612959698667,\n",
              " 0.42336350388666605,\n",
              " 0.4108678102350017,\n",
              " 0.4125874020673918,\n",
              " 0.4143642996334541,\n",
              " 0.41866327921442936,\n",
              " 0.4203255653131473,\n",
              " 0.41442164035231166,\n",
              " 0.41184225260372653,\n",
              " 0.4039321371717691,\n",
              " 0.40977872141374716,\n",
              " 0.4049638852741661,\n",
              " 0.4027284018979848,\n",
              " 0.3977415785870164,\n",
              " 0.3841568310992829,\n",
              " 0.37538688476594506,\n",
              " 0.4029576948030443,\n",
              " 0.39029001397999263,\n",
              " 0.3959646810209541,\n",
              " 0.4059956333765631,\n",
              " 0.3853605313878818,\n",
              " 0.3912644563487174,\n",
              " 0.3732660828274789,\n",
              " 0.38260919145309474,\n",
              " 0.37487102820733925,\n",
              " 0.37510028612721336,\n",
              " 0.37894071488325504,\n",
              " 0.3999770619631977,\n",
              " 0.4035308920805077,\n",
              " 0.409721415680075,\n",
              " 0.4034162456279779,\n",
              " 0.4138484430748483,\n",
              " 0.40427604154417296,\n",
              " 0.40009170841572744,\n",
              " 0.399862415510668,\n",
              " 0.39905996031333046,\n",
              " 0.4070847221978176,\n",
              " 0.4029576948030443,\n",
              " 0.4143642996334541,\n",
              " 0.40576634047150356,\n",
              " 0.40977872141374716,\n",
              " 0.4088616197638799,\n",
              " 0.40811647030021464,\n",
              " 0.40685542929275814,\n",
              " 0.40943481704134327,\n",
              " 0.41602658573217205,\n",
              " 0.408689667577678,\n",
              " 0.40805912958135704,\n",
              " 0.4178034832982343,\n",
              " 0.41849132702822744,\n",
              " 0.42829302146396225,\n",
              " 0.42880887802256806,\n",
              " 0.4305284698549582,\n",
              " 0.4343688986109998,\n",
              " 0.4331651983224009,\n",
              " 0.43482744943593343,\n",
              " 0.4493866742775771,\n",
              " 0.4430815042254801,\n",
              " 0.44462914387166824,\n",
              " 0.448698830547584,\n",
              " 0.4492147220913752,\n",
              " 0.455175952785883,\n",
              " 0.45861513645066326,\n",
              " 0.4435400550504137,\n",
              " 0.45414420468348604,\n",
              " 0.44611944279899884,\n",
              " 0.43861057245830287,\n",
              " 0.4306431163074879,\n",
              " 0.4276624834676413,\n",
              " 0.4343688986109998,\n",
              " 0.4382666331007136,\n",
              " 0.4317322051287425,\n",
              " 0.42714662690903554,\n",
              " 0.4329932111510136,\n",
              " 0.43253466032607996,\n",
              " 0.426917334003976,\n",
              " 0.42479649708032446,\n",
              " 0.42359279679172557,\n",
              " 0.42972601465762067,\n",
              " 0.426917334003976,\n",
              " 0.42107071477681257,\n",
              " 0.4124154498811899,\n",
              " 0.41963772158315416,\n",
              " 0.41849132702822744,\n",
              " 0.43087240921254744,\n",
              " 0.41946576939695224,\n",
              " 0.43448354506352954,\n",
              " 0.43964232056069985,\n",
              " 0.4390691232832365,\n",
              " 0.4435400550504137,\n",
              " 0.4370055920932571,\n",
              " 0.4376361300895781,\n",
              " 0.43333715050860283,\n",
              " 0.43368105488100667,\n",
              " 0.42754783701511156,\n",
              " 0.43448354506352954,\n",
              " 0.4321334152348185,\n",
              " 0.43597384399086014,\n",
              " 0.4339103477860662,\n",
              " 0.43110166713242154,\n",
              " 0.42806372855890273,\n",
              " 0.43058581057381573,\n",
              " 0.43368105488100667,\n",
              " 0.4410179730355007,\n",
              " 0.4378653880094522,\n",
              " 0.44015817711930566,\n",
              " 0.4560930894209356,\n",
              " 0.4634300075754297,\n",
              " 0.4630287624841682,\n",
              " 0.5012036871691544,\n",
              " 0.5086552517761782,\n",
              " 0.5046428708339347,\n",
              " 0.5001146333330853,\n",
              " 0.4944399662921238,\n",
              " 0.5051587623777258,\n",
              " 0.5038977213702693,\n",
              " 0.5065344498377121,\n",
              " 0.5095723884112309,\n",
              " 0.505846606107719,\n",
              " 0.4993121431505623,\n",
              " 0.5232717823514942,\n",
              " 0.545397183267506,\n",
              " 0.5551989126884262,\n",
              " 0.5562306258056379,\n",
              " 0.573082639757135,\n",
              " 0.5682677686323686,\n",
              " 0.5718789394685361,\n",
              " 0.5676945713549052,\n",
              " 0.5815659874517412,\n",
              " 0.5788146125317687,\n",
              " 0.5940616461182201,\n",
              " 0.5904505452524234,\n",
              " 0.5831708978464162,\n",
              " 0.6177347216656056,\n",
              " 0.6252435920063015,\n",
              " 0.6058121903062191,\n",
              " 0.5753754288669884,\n",
              " 0.5815086117476982,\n",
              " 0.5744583272171212,\n",
              " 0.5817379046527578,\n",
              " 0.5821964904628767,\n",
              " 0.6017425036303035,\n",
              " 0.6065573747550699,\n",
              " 0.5992204216153905,\n",
              " 0.58105009590795,\n",
              " 0.6042072799115442,\n",
              " 0.6110282715370616,\n",
              " 0.614983346745633,\n",
              " 0.6129198505408391,\n",
              " 0.614983346745633,\n",
              " 0.61710421865447,\n",
              " 0.6173908172932017,\n",
              " 0.6148687352782887,\n",
              " 0.6145821366395571,\n",
              " 0.6081049794160727,\n",
              " 0.6038633055687695,\n",
              " 0.6036340826340808,\n",
              " 0.5913676469022906,\n",
              " 0.6058694960398914,\n",
              " 0.5980740270604638,\n",
              " 0.6111429529747768,\n",
              " 0.6122320417960314,\n",
              " 0.6114868573471807,\n",
              " 0.6129771562745113,\n",
              " 0.6215751154364618,\n",
              " 0.6261606936561688,\n",
              " 0.636363633183165,\n",
              " 0.6288547628424691,\n",
              " 0.6358477416393739,\n",
              " 0.6149260410119609,\n",
              " 0.6252435920063015,\n",
              " 0.6495471705648225,\n",
              " 0.659807415825491,\n",
              " 0.6655966943337969,\n",
              " 0.7028545173689158,\n",
              " 0.6921930620021712,\n",
              " 0.684512204490088,\n",
              " 0.6758569395944652,\n",
              " 0.6946004625793691,\n",
              " 0.6937979723968463,\n",
              " 0.6950590483894881,\n",
              " 0.7061790195959808,\n",
              " 0.6941418767692501,\n",
              " 0.7010202440988105,\n",
              " 0.7077839999610266,\n",
              " 0.7069815097785037,\n",
              " 0.6946004625793691,\n",
              " 0.6749971436782702,\n",
              " 0.6991860407990761,\n",
              " 0.7029691288362602,\n",
              " 0.6822194153802345,\n",
              " 0.6676601905385908,\n",
              " 0.6590622313766402,\n",
              " 0.6814169251977117,\n",
              " 0.6876074837824643,\n",
              " 0.6826779312199828,\n",
              " 0.6918490876593967,\n",
              " 0.6688065850935175,\n",
              " 0.6127478633694518,\n",
              " 0.6189384219542045,\n",
              " 0.6302877560361275,\n",
              " 0.6469104770825652,\n",
              " 0.6266192794662878,\n",
              " 0.6372807348330323,\n",
              " 0.6416370201476798,\n",
              " 0.6314341505910542,\n",
              " 0.6372807348330323,\n",
              " 0.6456494010899233,\n",
              " 0.6423248988628583,\n",
              " 0.660667211741686,\n",
              " 0.6403760141254086,\n",
              " 0.6337269397009077,\n",
              " 0.6245557832614939,\n",
              " 0.6353318500955827,\n",
              " 0.6535595515070661,\n",
              " 0.6605525303039709,\n",
              " 0.6512667623972126,\n",
              " 0.6349879457231788,\n",
              " 0.6475982858273729,\n",
              " 0.6433566119800698,\n",
              " 0.6402613326876935,\n",
              " 0.6369368304606284,\n",
              " 0.6568840537341312,\n",
              " 0.6505788836820341,\n",
              " 0.6658259872388563,\n",
              " 0.659750040121448,\n",
              " 0.6756849524230779,\n",
              " 0.6635331981290028,\n",
              " 0.6849707203298362,\n",
              " 0.682448708285294,\n",
              " 0.697925034776805,\n",
              " 0.7027398359312006,\n",
              " 0.7082425857711456,\n",
              " 0.7490542039383891,\n",
              " 0.7437808169738744,\n",
              " 0.7657915364521711,\n",
              " 0.7515762859533021,\n",
              " 0.7434368426310998,\n",
              " 0.7523787761358249,\n",
              " 0.7578814560053991,\n",
              " 0.7708357004819971,\n",
              " 0.763269524407629,\n",
              " 0.7664794151673496,\n",
              " 0.7624670342251061,\n",
              " 0.7567350614504724,\n",
              " 0.7822996460312645,\n",
              " 0.7653330206124229,\n",
              " 0.7777140678115575,\n",
              " 0.7984637812675831,\n",
              " 0.8294164342506051,\n",
              " 0.8380143934125556,\n",
              " 0.8236844614759713,\n",
              " 0.7975466796177159,\n",
              " 0.8182964630441123,\n",
              " 0.8346898911854905,\n",
              " 0.8455806394572944,\n",
              " 0.8665596458183796,\n",
              " 0.8556688975465756,\n",
              " 0.8648400539859895,\n",
              " 0.845809932362354,\n",
              " 0.8288432369731417,\n",
              " 0.8284993326007378,\n",
              " 0.8158889924965437,\n",
              " 0.8039665311075281,\n",
              " 0.819442857599039,\n",
              " 0.840765768332528,\n",
              " 0.8413389656099914,\n",
              " 0.8546371144589933,\n",
              " 0.8517711280716764,\n",
              " 0.8404218639601242,\n",
              " 0.8422560672598587,\n",
              " 0.840307182522409,\n",
              " 0.8326263949806966,\n",
              " 0.8211624494314291,\n",
              " 0.8173792914238743,\n",
              " 0.8267797407683477,\n",
              " 0.8257480276511361,\n",
              " 0.8166914826790665,\n",
              " 0.8166914826790665,\n",
              " 0.8114180957145519,\n",
              " 0.8149718908466764,\n",
              " 0.8052275371297992,\n",
              " 0.8199013734387873,\n",
              " 0.8192135646939795,\n",
              " 0.8079789120497717,\n",
              " 0.810615605532029,\n",
              " 0.8121059044593596,\n",
              " 0.8213916723661179,\n",
              " 0.8119912929920152,\n",
              " 0.8078642306120566,\n",
              " 0.8036225567647535,\n",
              " 0.8061446387796665,\n",
              " 0.8213916723661179,\n",
              " 0.844892760742116,\n",
              " 0.8313653189880547,\n",
              " 0.8318239047981737,\n",
              " 0.8419121628874547,\n",
              " 0.8685085305558292,\n",
              " 0.9003782851887183,\n",
              " 0.8963659042464748,\n",
              " 0.8957927069690114,\n",
              " 0.9259428697695105,\n",
              " 0.9306431294269325,\n",
              " 0.9453169657359206,\n",
              " 0.9554052238252018,\n",
              " 0.9371775224137183,\n",
              " 0.9313309381717403,\n",
              " 0.9247964752145836,\n",
              " 0.9582712102125186,\n",
              " 0.9519660401604215,\n",
              " 0.9738621481713738,\n",
              " 0.9664105835643502,\n",
              " 0.9732889508939104,\n",
              " 0.9706522574116532,\n",
              " 0.9563223254750689,\n",
              " 0.9504757412330909,\n",
              " 0.9399288973336908,\n",
              " 0.9680155639293959,\n",
              " 0.9696205442944417,\n",
              " 0.9480682706855222,\n",
              " 0.9546027336426789,\n",
              " 0.9711108432217721,\n",
              " 0.9814283942161128,\n",
              " 0.976040325813883,\n",
              " 0.9660666791919461,\n",
              " 0.9557491281976056,\n",
              " 0.9327066256317265,\n",
              " 0.9301845436168135,\n",
              " 0.9446290870207421,\n",
              " 0.9638885715198078,\n",
              " 0.9343115360264015,\n",
              " 0.9187205980675461,\n",
              " 0.9194084068123539,\n",
              " 0.9421070749761998,\n",
              " 0.9063395508684116,\n",
              " 0.9085176585405499,\n",
              " 0.9251403795869876,\n",
              " 0.9309870337993363,\n",
              " 0.9372922038514334,\n",
              " 0.9175742035126194,\n",
              " 0.9205548013672806,\n",
              " 0.9288088561568273,\n",
              " 0.9198669926224728,\n",
              " 0.922045170264982,\n",
              " 0.8907485429391855,\n",
              " 0.8851312516022669,\n",
              " 0.8910925172819602,\n",
              " 0.9014100682763008,\n",
              " 0.8934999178591579,\n",
              " 0.8596812784888191,\n",
              " 0.8365240944852249,\n",
              " 0.8525736182541993,\n",
              " 0.8451220536471755,\n",
              " 0.8444342449023677,\n",
              " 0.8406511568651837,\n",
              " 0.8445488563697121,\n",
              " 0.8329702993531004,\n",
              " 0.8417975514201104,\n",
              " 0.832397102075637,\n",
              " 0.8338874010029677,\n",
              " 0.8366387759229401,\n",
              " 0.8459245438296984,\n",
              " 0.8576177822840252,\n",
              " 0.8309068031483064,\n",
              " 0.8129083946418825,\n",
              " 0.8139401077590941,\n",
              " 0.8107302169993734,\n",
              " 0.8176085843289338,\n",
              " 0.8162328968689475,\n",
              " 0.8307921217105912,\n",
              " 0.8244869516584942,\n",
              " 0.8168060941464109,\n",
              " 0.8141694006641536,\n",
              " 0.8032786523923496,\n",
              " 0.8007565703774366,\n",
              " 0.8004126660050328,\n",
              " 0.8066032245897854,\n",
              " 0.8060300273123221,\n",
              " 0.844892760742116,\n",
              " 0.9180327893227385,\n",
              " 0.9461194559184435,\n",
              " 0.9049638634084253,\n",
              " 0.9067980667081598,\n",
              " 0.8982001075462093,\n",
              " 0.9016392912109894,\n",
              " 0.9191791838776652,\n",
              " 0.9257135768644509,\n",
              " 0.9348847333038648,\n",
              " 0.9372922038514334,\n",
              " 0.9048492519410809,\n",
              " 0.9277771430396157,\n",
              " 0.9361458092965067,\n",
              " 0.939241088588883,\n",
              " 0.9679009524620514,\n",
              " 0.9536856319928116,\n",
              " 0.995758326152697,\n",
              " 1.0,\n",
              " 0.9853260937206412,\n",
              " 0.9411899033559619,\n",
              " 0.947609754845774,\n",
              " 0.9393557000562274,\n",
              " 0.9484122450282969,\n",
              " 0.9414191962610213,\n",
              " 0.9411899033559619,\n",
              " 0.9546027336426789,\n",
              " 0.911154421993178,\n",
              " 0.9197523811551285,\n",
              " 0.9104665432779995,\n",
              " 0.9104665432779995,\n",
              " 0.916542420425037,\n",
              " 0.906568843773471,\n",
              " 0.9049638634084253,\n",
              " 0.8938438222315618,\n",
              " 0.8722916185930133,\n",
              " 0.873781917520344,\n",
              " 0.86461076108093,\n",
              " 0.8686231420231736,\n",
              " 0.8757308022577935,\n",
              " 0.8896021483842587,\n",
              " 0.8946463124140847,\n",
              " 0.8900607341943777,\n",
              " 0.9100080274382513,\n",
              " 0.9070273596132192,\n",
              " 0.8994611835388511,\n",
              " 0.9160839045852888,\n",
              " 0.9087469514456094,\n",
              " 0.9080591427008017,\n",
              " 0.9056516721532331,\n",
              " 0.9064541623357559,\n",
              " 0.9011807753712412,\n",
              " 0.8967098086188786,\n",
              " 0.8847873472298631,\n",
              " 0.8922389118368869,\n",
              " 0.9141350198478392,\n",
              " 0.9582712102125186,\n",
              " 0.9088616328833246,\n",
              " 0.9118422307379858,\n",
              " 0.9101226389055956,\n",
              " 0.9131032367602568,\n",
              " 0.9088616328833246,\n",
              " 0.9049638634084253,\n",
              " 0.8990025977287321,\n",
              " 0.8750429935129858,\n",
              " 0.8677060403733063,\n",
              " 0.8622033605037321,\n",
              " 0.8627765577811956,\n",
              " 0.8673621360009025,\n",
              " 0.8446635378074273,\n",
              " 0.8505101220494053,\n",
              " 0.8585348839338924,\n",
              " 0.8634643665260032,\n",
              " 0.8584202724665481,\n",
              " 0.8657571556358568,\n",
              " 0.8654132512634529,\n",
              " 0.8625472648761361,\n",
              " 0.8640375638034666,\n",
              " 0.8576177822840252,\n",
              " 0.8530322040643182,\n",
              " 0.8601398642989382,\n",
              " 0.8596812784888191,\n",
              " 0.8467270340122213,\n",
              " 0.8529175226266031,\n",
              " 0.8528029111592588,\n",
              " 0.8487905302170152,\n",
              " 0.8550957002691123,\n",
              " 0.8857044488797303,\n",
              " 0.8846726657921479,\n",
              " 0.863349755058659,\n",
              " 0.8796285717326927,\n",
              " 0.8975122988014015,\n",
              " 0.9047345705033658,\n",
              " 0.8965951971515342,\n",
              " 0.897283005896342,\n",
              " 0.8977415917064611,\n",
              " 0.8996904764439106,\n",
              " 0.8980854960788649,\n",
              " 0.8973976873340571,\n",
              " 0.878023591367647,\n",
              " 0.856242094824039,\n",
              " 0.8483319444068962,\n",
              " 0.8515419051369877,\n",
              " 0.8434024618147854,\n",
              " 0.8431731689097258,\n",
              " 0.8454659580195794,\n",
              " 0.8375558775728074,\n",
              " 0.8483319444068962,\n",
              " 0.8571591964739063,\n",
              " 0.8506247335167496,\n",
              " 0.8491344345894191,\n",
              " 0.8494783389618229,\n",
              " 0.8536054013417816,\n",
              " 0.838243686317615,\n",
              " 0.8380143934125556,\n",
              " 0.8242576587534347,\n",
              " 0.8423707486975738,\n",
              " 0.834460598280431,\n",
              " 0.8502808291443458,\n",
              " 0.8523443253491397,\n",
              " 0.8569299035688467,\n",
              " 0.873781917520344,\n",
              " 0.9118422307379858,\n",
              " 0.9149375100303621,\n",
              " 0.9156253187751698,\n",
              " 0.8944170195090252,\n",
              " 0.8952195096915481,\n",
              " 0.8775650055575279,\n",
              " 0.8854751559746707,\n",
              " 0.8415682585150509,\n",
              " 0.825633346213421,\n",
              " 0.8265504478632882,\n",
              " 0.8226527483587598,\n",
              " 0.8213916723661179,\n",
              " 0.8173792914238743,\n",
              " 0.8049982442247396,\n",
              " 0.7980052654278349,\n",
              " 0.8023615507424824,\n",
              " 0.7902097964484073,\n",
              " 0.8021322578374228,\n",
              " 0.8211624494314291,\n",
              " 0.8228820412638193,\n",
              " 0.8271236451407515,\n",
              " 0.8321678091705775,\n",
              " 0.8270090336734072,\n",
              " 0.8337727895356233,\n",
              " 0.8273529380458111,\n",
              " 0.8335434966305637,\n",
              " 0.8413389656099914,\n",
              " 0.8760747066301974,\n",
              " 0.8925828162092907,\n",
              " 0.8632350736209438,\n",
              " 0.8381290748502707,\n",
              " 0.8046543398523358,\n",
              " 0.7732431010591949,\n",
              " 0.7546715652456785,\n",
              " 0.7482517137558662,\n",
              " 0.7374756469217774,\n",
              " 0.7317436741471437,\n",
              " 0.7241774281024047,\n",
              " 0.7592571434653854,\n",
              " 0.7672819053498725,\n",
              " 0.7390805573164523,\n",
              " 0.7560471827352939,\n",
              " 0.7422904480761731,\n",
              " 0.7532958777856922,\n",
              " 0.7565057685454128,\n",
              " 0.7819557416588606,\n",
              " 0.7796629525490071,\n",
              " 0.7248653068175833,\n",
              " 0.7289922992271712,\n",
              " 0.7156941503781694,\n",
              " 0.7140891700131237,\n",
              " 0.7241774281024047,\n",
              " 0.7138598771080641,\n",
              " 0.6817608295701155,\n",
              " 0.6916198647247079,\n",
              " 0.6989567478940165,\n",
              " 0.7051473064787692,\n",
              " 0.6939126538345614,\n",
              " 0.6964346658791035,\n",
              " 0.7044594277635907,\n",
              " 0.701708122813989,\n",
              " 0.6964346658791035,\n",
              " 0.6989567478940165,\n",
              " 0.6980396462441493,\n",
              " 0.7108792792534029,\n",
              " 0.7211968302477435,\n",
              " 0.7241774281024047,\n",
              " 0.727616611767185,\n",
              " 0.7328900687020704,\n",
              " 0.7296801079719789,\n",
              " 0.7241774281024047,\n",
              " 0.718445455327771,\n",
              " 0.7129427754581968,\n",
              " 0.7081279043334304,\n",
              " 0.7147769787579313,\n",
              " 0.6934540680244423,\n",
              " 0.6613550204864937,\n",
              " 0.6723603802256422,\n",
              " 0.7069815097785037,\n",
              " 0.7390805573164523,\n",
              " 0.7482517137558662,\n",
              " 0.740685537681498,\n",
              " 0.7558179598006052,\n",
              " 0.747793197916118,\n",
              " 0.7544422723406189,\n",
              " 0.7551300810854267,\n",
              " 0.759486366400074,\n",
              " 0.7590278505603258,\n",
              " 0.7599449522101931,\n",
              " 0.7512323815808982,\n",
              " 0.7560471827352939,\n",
              " 0.7604035380203121,\n",
              " 0.7441247213462783,\n",
              " 0.7266995101173177,\n",
              " 0.7549007881803671,\n",
              " 0.730597279592217,\n",
              " 0.715923373312858,\n",
              " 0.7381634556665851,\n",
              " 0.7370170611116583,\n",
              " 0.7248653068175833,\n",
              " 0.7223432248026703,\n",
              " 0.6712139856707153,\n",
              " 0.6652527899613929,\n",
              " 0.6728189660357611,\n",
              " 0.662272122136361,\n",
              " 0.6696090752760404,\n",
              " 0.669379782370981,\n",
              " 0.6682333878160541,\n",
              " 0.6760288567954819,\n",
              " 0.6787802317154543,\n",
              " 0.669379782370981,\n",
              " 0.6661698916112602,\n",
              " 0.6767167355106604,\n",
              " 0.687034286505001,\n",
              " 0.6796973333653216,\n",
              " 0.7115670879982107,\n",
              " 0.7241774281024047,\n",
              " 0.7177576465829634,\n",
              " 0.6959761500393553,\n",
              " 0.7026252244638562,\n",
              " 0.7138598771080641,\n",
              " 0.7053765993838288,\n",
              " 0.6856585990450147,\n",
              " 0.715923373312858,\n",
              " 0.7207382444376246,\n",
              " 0.7111085721584625,\n",
              " 0.7278459046722445,\n",
              " 0.7310557954319652,\n",
              " 0.7303679866871574,\n",
              " 0.7285337134170522,\n",
              " 0.7216553460874918,\n",
              " 0.7182161624227116,\n",
              " 0.715923373312858,\n",
              " 0.7202797285978764,\n",
              " 0.6941418767692501,\n",
              " 0.6943711696743096,\n",
              " 0.6842829115850285,\n",
              " 0.6890977827097949,\n",
              " 0.6849707203298362,\n",
              " 0.6806144350151888,\n",
              " 0.6608964346763747,\n",
              " 0.664794204151274,\n",
              " 0.6732775518458801,\n",
              " 0.6707554698309671,\n",
              " 0.6751117551456146,\n",
              " 0.664794204151274,\n",
              " 0.6707554698309671,\n",
              " 0.6682333878160541,\n",
              " 0.6565401493617273,\n",
              " 0.6581451297267731,\n",
              " 0.6618136062966128,\n",
              " 0.6608964346763747,\n",
              " 0.6501203678422859,\n",
              " 0.6485153874772401,\n",
              " 0.6411785043079314,\n",
              " 0.669379782370981,\n",
              " 0.6753410480506741,\n",
              " 0.6572280280769058,\n",
              " 0.6615843133915532,\n",
              " 0.6826779312199828,\n",
              " 0.6680040949109947,\n",
              " 0.664335618341155,\n",
              " 0.6657113058011411,\n",
              " 0.6574572510115945,\n",
              " 0.660667211741686,\n",
              " 0.6634185166912877,\n",
              " 0.6838243257749095,\n",
              " 0.6008254019804362,\n",
              " 0.4987962865919566,\n",
              " 0.5299781974948526,\n",
              " 0.5198899394055715,\n",
              " 0.5260804630051388,\n",
              " 0.5581795105430875,\n",
              " 0.5714776593920893,\n",
              " 0.5767511163269747,\n",
              " 0.5785853196267092,\n",
              " 0.5641407762227806,\n",
              " 0.568038475727309,\n",
              " 0.5524475377684538,\n",
              " 0.5535939323233805,\n",
              " 0.5882150618762421,\n",
              " 0.599908300330569,\n",
              " 0.5886735777159903,\n",
              " 0.6060987889449508,\n",
              " 0.5824830891016084,\n",
              " 0.59234205428583,\n",
              " 0.6079330622150562,\n",
              " 0.6372807348330323,\n",
              " 0.6008254019804362,\n",
              " 0.5872979602263748,\n",
              " 0.5946348433956835,\n",
              " 0.6070158905948181,\n",
              " 0.5767511163269747,\n",
              " 0.6058694960398914,\n",
              " 0.6242118089187192,\n",
              " 0.6299437816933529,\n",
              " 0.6148114295446165,\n",
              " 0.6111429529747768,\n",
              " 0.5950934292058025,\n",
              " 0.6067866676601293,\n",
              " 0.5914249526359628,\n",
              " 0.5854636869562696,\n",
              " 0.59234205428583,\n",
              " 0.5721655381072678,\n",
              " 0.5758340146771075,\n",
              " 0.5746876201221808,\n",
              " 0.5664335653326341,\n",
              " 0.5795024212765765,\n",
              " 0.5733119326621945,\n",
              " 0.5570331159881607,\n",
              " 0.5524475377684538,\n",
              " 0.5735412255672541,\n",
              " 0.5625357958577348,\n",
              " 0.5815659874517412,\n",
              " 0.5875271831610636,\n",
              " 0.6051816872950836,\n",
              " 0.6127478633694518,\n",
              " 0.621231211064058,\n",
              " 0.6267338909336322,\n",
              " 0.6354465315332978,\n",
              " 0.5983033199655232,\n",
              " 0.5767511163269747,\n",
              " 0.5749168430568695,\n",
              " 0.5714776593920893,\n",
              " 0.5911956597309033,\n",
              " 0.5859222727663886,\n",
              " 0.5889028706210498,\n",
              " 0.5868393744162559,\n",
              " 0.5657456866174556,\n",
              " 0.5717069522971487,\n",
              " 0.5694141631872953,\n",
              " 0.5719362452022083,\n",
              " 0.5627650887627944,\n",
              " 0.5531353465132615,\n",
              " 0.5590966121929547,\n",
              " 0.5641407762227806,\n",
              " 0.5744583272171212,\n",
              " 0.580190299991755,\n",
              " 0.5886735777159903,\n",
              " 0.5895907493362283,\n",
              " 0.5795024212765765,\n",
              " 0.5808781087365626,\n",
              " 0.5815659874517412,\n",
              " 0.5847758782114619,\n",
              " 0.5891321635261093,\n",
              " 0.5905078509860956,\n",
              " 0.5872979602263748,\n",
              " 0.5744583272171212,\n",
              " 0.5850051711165214,\n",
              " 0.5866100815111963,\n",
              " 0.5806488158315032,\n",
              " 0.5707898506472815,\n",
              " 0.5895907493362283,\n",
              " 0.5905078509860956,\n",
              " 0.5710191435523411,\n",
              " 0.5804195928968144,\n",
              " 0.5753754288669884,\n",
              " 0.5290610958449854,\n",
              " 0.5327295374296397,\n",
              " 0.5304367483197863,\n",
              " 0.5334173811596329,\n",
              " 0.5503840415636598,\n",
              " 0.5586380963532065,\n",
              " 0.5866100815111963,\n",
              " 0.5930299330010086,\n",
              " 0.6097672655147905,\n",
              " 0.6035767069300378,\n",
              " 0.6205434023192502,\n",
              " 0.636363633183165,\n",
              " 0.6620428292313014,\n",
              " 0.6677748020059352,\n",
              " 0.6462225983673866,\n",
              " 0.6393442310378262,\n",
              " 0.662272122136361,\n",
              " 0.6641063954064662,\n",
              " 0.6395735239428857,\n",
              " 0.6503496607473453,\n",
              " 0.6790095246205138,\n",
              " 0.7040009119238425,\n",
              " 0.7035423261137235,\n",
              " 0.6865757006948819,\n",
              " 0.6776338371605276,\n",
              " 0.7111085721584625,\n",
              " 0.6994153337041356,\n",
              " 0.6978103533390898,\n",
              " 0.6971225445942821,\n",
              " 0.6852000132348957,\n",
              " 0.6826779312199828,\n",
              " 0.6611257275814343,\n",
              " 0.6691504894659214,\n",
              " 0.6840536186799689,\n",
              " 0.6547059460619928,\n",
              " 0.6700675911157886,\n",
              " 0.6755703409557335,\n",
              " 0.6817608295701155,\n",
              " 0.6698383681810999,\n",
              " 0.6636478095963472,\n",
              " 0.6714432785757749,\n",
              " 0.6732775518458801,\n",
              " 0.6441591021625926,\n",
              " 0.6425541217975469,\n",
              " 0.66273070794648,\n",
              " 0.657686543916654,\n",
              " 0.6583744226318325,\n",
              " 0.6822194153802345,\n",
              " 0.682448708285294,\n",
              " 0.6735067747805689,\n",
              " 0.6760288567954819,\n",
              " 0.6611257275814343,\n",
              " 0.6553937548068005,\n",
              " 0.6480568716374919,\n",
              " 0.6343001369783711,\n",
              " 0.6113722458798363,\n",
              " 0.6159578240995432,\n",
              " 0.6258167892837649,\n",
              " 0.6505788836820341,\n",
              " 0.643471293417785,\n",
              " 0.6803851421101292,\n",
              " 0.6613550204864937,\n",
              " 0.6702968840208481,\n",
              " 0.6645649112462144,\n",
              " 0.6764874426056008,\n",
              " 0.70124953700387,\n",
              " 0.7069815097785037,\n",
              " 0.6927662592796346,\n",
              " 0.7001031424489433,\n",
              " 0.7166112520280367,\n",
              " 0.7356413736516721,\n",
              " 0.7156941503781694,\n",
              " 0.7074400955886228,\n",
              " 0.7085864901435495,\n",
              " 0.6941418767692501,\n",
              " 0.7026252244638562,\n",
              " ...]"
            ]
          },
          "metadata": {},
          "execution_count": 39
        }
      ]
    },
    {
      "cell_type": "code",
      "metadata": {
        "colab": {
          "base_uri": "https://localhost:8080/"
        },
        "id": "_7vGtWCWLH3c",
        "outputId": "75ce17a3-a2c4-4ac8-e223-1d755f46e2bb"
      },
      "source": [
        "# demonstrate prediction for next 10 days\n",
        "from numpy import array\n",
        "lst_output=[]\n",
        "n_steps=1551\n",
        "i=0\n",
        "while(i<30):\n",
        "    \n",
        "    if(len(temp_input)>100):\n",
        "        #print(temp_input)\n",
        "        x_input=np.array(temp_input[1:])\n",
        "        print(\"{} day input {}\".format(i,x_input))\n",
        "        x_input=x_input.reshape(1,-1)\n",
        "        x_input = x_input.reshape((1, n_steps, 1))\n",
        "        #print(x_input)\n",
        "        yhat = model.predict(x_input, verbose=0)\n",
        "        print(\"{} day output {}\".format(i,yhat))\n",
        "        temp_input.extend(yhat[0].tolist())\n",
        "        temp_input=temp_input[1:]\n",
        "        #print(temp_input)\n",
        "        lst_output.extend(yhat.tolist())\n",
        "        i=i+1\n",
        "    else:\n",
        "        x_input = x_input.reshape((1, n_steps,1))\n",
        "        yhat = model.predict(x_input, verbose=0)\n",
        "        print(yhat[0])\n",
        "        temp_input.extend(yhat[0].tolist())\n",
        "        print(len(temp_input))\n",
        "        lst_output.extend(yhat.tolist())\n",
        "        i=i+1\n",
        "    \n",
        "\n",
        "print(lst_output)"
      ],
      "execution_count": 42,
      "outputs": [
        {
          "output_type": "stream",
          "name": "stdout",
          "text": [
            "0 day input [0.35692996 0.35738851 0.35601282 ... 0.46532155 0.46257021 0.47609765]\n",
            "0 day output [[0.43833587]]\n",
            "1 day input [0.35738851 0.35601282 0.36862316 ... 0.46257021 0.47609765 0.43833587]\n",
            "1 day output [[0.4403051]]\n",
            "2 day input [0.35601282 0.36862316 0.37091595 ... 0.47609765 0.43833587 0.44030511]\n",
            "2 day output [[0.44177037]]\n",
            "3 day input [0.36862316 0.37091595 0.36581452 ... 0.43833587 0.44030511 0.44177037]\n",
            "3 day output [[0.44268137]]\n",
            "4 day input [0.37091595 0.36581452 0.36415223 ... 0.44030511 0.44177037 0.44268137]\n",
            "4 day output [[0.44308653]]\n",
            "5 day input [0.36581452 0.36415223 0.35767511 ... 0.44177037 0.44268137 0.44308653]\n",
            "5 day output [[0.44307533]]\n",
            "6 day input [0.36415223 0.35767511 0.34598187 ... 0.44268137 0.44308653 0.44307533]\n",
            "6 day output [[0.44274536]]\n",
            "7 day input [0.35767511 0.34598187 0.35928006 ... 0.44308653 0.44307533 0.44274536]\n",
            "7 day output [[0.44218546]]\n",
            "8 day input [0.34598187 0.35928006 0.36443883 ... 0.44307533 0.44274536 0.44218546]\n",
            "8 day output [[0.44146866]]\n",
            "9 day input [0.35928006 0.36443883 0.35973861 ... 0.44274536 0.44218546 0.44146866]\n",
            "9 day output [[0.4406508]]\n",
            "10 day input [0.36443883 0.35973861 0.35836295 ... 0.44218546 0.44146866 0.44065079]\n",
            "10 day output [[0.43977228]]\n",
            "11 day input [0.35973861 0.35836295 0.35469448 ... 0.44146866 0.44065079 0.43977228]\n",
            "11 day output [[0.43886092]]\n",
            "12 day input [0.35836295 0.35469448 0.34707096 ... 0.44065079 0.43977228 0.43886092]\n",
            "12 day output [[0.437935]]\n",
            "13 day input [0.35469448 0.34707096 0.35962396 ... 0.43977228 0.43886092 0.43793499]\n",
            "13 day output [[0.43700546]]\n",
            "14 day input [0.34707096 0.35962396 0.36248995 ... 0.43886092 0.43793499 0.43700546]\n",
            "14 day output [[0.43607882]]\n",
            "15 day input [0.35962396 0.36248995 0.36650233 ... 0.43793499 0.43700546 0.43607882]\n",
            "15 day output [[0.4351584]]\n",
            "16 day input [0.36248995 0.36650233 0.3605984  ... 0.43700546 0.43607882 0.4351584 ]\n",
            "16 day output [[0.43424568]]\n",
            "17 day input [0.36650233 0.3605984  0.38679352 ... 0.43607882 0.4351584  0.43424568]\n",
            "17 day output [[0.43334088]]\n",
            "18 day input [0.3605984  0.38679352 0.39590738 ... 0.4351584  0.43424568 0.43334088]\n",
            "18 day output [[0.43244416]]\n",
            "19 day input [0.38679352 0.39590738 0.39648057 ... 0.43424568 0.43334088 0.43244416]\n",
            "19 day output [[0.43155515]]\n",
            "20 day input [0.39590738 0.39648057 0.4137338  ... 0.43334088 0.43244416 0.43155515]\n",
            "20 day output [[0.43067357]]\n",
            "21 day input [0.39648057 0.4137338  0.40439069 ... 0.43244416 0.43155515 0.43067357]\n",
            "21 day output [[0.4297992]]\n",
            "22 day input [0.4137338  0.40439069 0.40284305 ... 0.43155515 0.43067357 0.4297992 ]\n",
            "22 day output [[0.42893162]]\n",
            "23 day input [0.40439069 0.40284305 0.39825747 ... 0.43067357 0.4297992  0.42893162]\n",
            "23 day output [[0.42807096]]\n",
            "24 day input [0.40284305 0.39825747 0.39854407 ... 0.4297992  0.42893162 0.42807096]\n",
            "24 day output [[0.42721704]]\n",
            "25 day input [0.39825747 0.39854407 0.39928922 ... 0.42893162 0.42807096 0.42721704]\n",
            "25 day output [[0.4263699]]\n",
            "26 day input [0.39854407 0.39928922 0.40645418 ... 0.42807096 0.42721704 0.42636991]\n",
            "26 day output [[0.42552972]]\n",
            "27 day input [0.39928922 0.40645418 0.43024187 ... 0.42721704 0.42636991 0.42552972]\n",
            "27 day output [[0.42469627]]\n",
            "28 day input [0.40645418 0.43024187 0.43574459 ... 0.42636991 0.42552972 0.42469627]\n",
            "28 day output [[0.42386982]]\n",
            "29 day input [0.43024187 0.43574459 0.44629139 ... 0.42552972 0.42469627 0.42386982]\n",
            "29 day output [[0.42305025]]\n",
            "[[0.4383358657360077], [0.44030511379241943], [0.44177037477493286], [0.44268137216567993], [0.44308653473854065], [0.4430753290653229], [0.4427453577518463], [0.4421854615211487], [0.44146865606307983], [0.4406507909297943], [0.43977227807044983], [0.4388609230518341], [0.4379349946975708], [0.4370054602622986], [0.436078816652298], [0.4351584017276764], [0.43424567580223083], [0.4333408772945404], [0.43244415521621704], [0.4315551519393921], [0.4306735694408417], [0.4297991991043091], [0.4289316236972809], [0.42807096242904663], [0.427217036485672], [0.42636990547180176], [0.42552971839904785], [0.42469626665115356], [0.4238698184490204], [0.42305025458335876]]\n"
          ]
        }
      ]
    },
    {
      "cell_type": "code",
      "metadata": {
        "id": "nps0ytQMLH3c"
      },
      "source": [
        "day_new=np.arange(1,101)\n",
        "day_pred=np.arange(101,131)"
      ],
      "execution_count": 43,
      "outputs": []
    },
    {
      "cell_type": "code",
      "metadata": {
        "id": "MFkdb8Y9LH3d"
      },
      "source": [
        "import matplotlib.pyplot as plt"
      ],
      "execution_count": 44,
      "outputs": []
    },
    {
      "cell_type": "code",
      "metadata": {
        "colab": {
          "base_uri": "https://localhost:8080/"
        },
        "id": "QPIsgmesLH3d",
        "outputId": "933c3c14-8840-43b2-dad7-564e573c7ec0"
      },
      "source": [
        "len(df1)"
      ],
      "execution_count": 45,
      "outputs": [
        {
          "output_type": "execute_result",
          "data": {
            "text/plain": [
              "5408"
            ]
          },
          "metadata": {},
          "execution_count": 45
        }
      ]
    },
    {
      "cell_type": "code",
      "metadata": {
        "colab": {
          "base_uri": "https://localhost:8080/",
          "height": 282
        },
        "id": "BeCxKSrxLH3e",
        "outputId": "7c1eb380-f5d8-4800-a53d-bcfaf1bcc43e"
      },
      "source": [
        "plt.plot(day_new,scaler.inverse_transform(df1[5308:]))\n",
        "plt.plot(day_pred,scaler.inverse_transform(lst_output))"
      ],
      "execution_count": 47,
      "outputs": [
        {
          "output_type": "execute_result",
          "data": {
            "text/plain": [
              "[<matplotlib.lines.Line2D at 0x7fbc81f94f90>]"
            ]
          },
          "metadata": {},
          "execution_count": 47
        },
        {
          "output_type": "display_data",
          "data": {
            "image/png": "[encoded data removed]",
            "text/plain": [
              "<Figure size 432x288 with 1 Axes>"
            ]
          },
          "metadata": {
            "needs_background": "light"
          }
        }
      ]
    },
    {
      "cell_type": "code",
      "metadata": {
        "colab": {
          "base_uri": "https://localhost:8080/",
          "height": 282
        },
        "id": "pTggOa3WLH3e",
        "outputId": "bf1373ba-f267-42a9-d95c-9639fc59edb7"
      },
      "source": [
        "df3=df1.tolist()\n",
        "df3.extend(lst_output)\n",
        "plt.plot(df3[1200:])"
      ],
      "execution_count": 48,
      "outputs": [
        {
          "output_type": "execute_result",
          "data": {
            "text/plain": [
              "[<matplotlib.lines.Line2D at 0x7fbc7d44f090>]"
            ]
          },
          "metadata": {},
          "execution_count": 48
        },
        {
          "output_type": "display_data",
          "data": {
            "image/png": "[encoded data removed]",
            "text/plain": [
              "<Figure size 432x288 with 1 Axes>"
            ]
          },
          "metadata": {
            "needs_background": "light"
          }
        }
      ]
    },
    {
      "cell_type": "code",
      "metadata": {
        "id": "FwSAngSILH3e"
      },
      "source": [
        "df3=scaler.inverse_transform(df3).tolist()"
      ],
      "execution_count": 49,
      "outputs": []
    },
    {
      "cell_type": "code",
      "metadata": {
        "colab": {
          "base_uri": "https://localhost:8080/",
          "height": 282
        },
        "id": "L4Juhj9DLH3f",
        "outputId": "f887d932-4cfc-4ec7-bf2a-b12c0c27d27c"
      },
      "source": [
        "plt.plot(df3)"
      ],
      "execution_count": 50,
      "outputs": [
        {
          "output_type": "execute_result",
          "data": {
            "text/plain": [
              "[<matplotlib.lines.Line2D at 0x7fbc7be38510>]"
            ]
          },
          "metadata": {},
          "execution_count": 50
        },
        {
          "output_type": "display_data",
          "data": {
            "image/png": "[encoded data removed]",
            "text/plain": [
              "<Figure size 432x288 with 1 Axes>"
            ]
          },
          "metadata": {
            "needs_background": "light"
          }
        }
      ]
    },
    {
      "cell_type": "code",
      "metadata": {
        "id": "PdGlHklFLH3f"
      },
      "source": [
        ""
      ],
      "execution_count": null,
      "outputs": []
    }
  ]
}