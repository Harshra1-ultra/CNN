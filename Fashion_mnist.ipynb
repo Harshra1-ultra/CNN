{
  "nbformat": 4,
  "nbformat_minor": 0,
  "metadata": {
    "colab": {
      "name": "Fashion_mnist.ipynb",
      "provenance": [],
      "authorship_tag": "ABX9TyMOF7NPxjkpUINj9eA7/YIS",
      "include_colab_link": true
    },
    "kernelspec": {
      "name": "python3",
      "display_name": "Python 3"
    },
    "language_info": {
      "name": "python"
    }
  },
  "cells": [
    {
      "cell_type": "markdown",
      "metadata": {
        "id": "view-in-github",
        "colab_type": "text"
      },
      "source": [
        "<a href=\"https://colab.research.google.com/github/Harshra1-ultra/CNN/blob/main/Fashion_mnist.ipynb\" target=\"_parent\"><img src=\"https://colab.research.google.com/assets/colab-badge.svg\" alt=\"Open In Colab\"/></a>"
      ]
    },
    {
      "cell_type": "code",
      "metadata": {
        "colab": {
          "base_uri": "https://localhost:8080/"
        },
        "id": "Pik_1xvCffZC",
        "outputId": "3c709cb4-7064-4d31-bc37-d8bc21bbe2f2"
      },
      "source": [
        "!pip install -q tensorflow-gpu==2.0.0-beta1"
      ],
      "execution_count": 3,
      "outputs": [
        {
          "output_type": "stream",
          "text": [
            "\u001b[K     |████████████████████████████████| 349.7 MB 35 kB/s \n",
            "\u001b[K     |████████████████████████████████| 496 kB 47.8 MB/s \n",
            "\u001b[K     |████████████████████████████████| 50 kB 6.4 MB/s \n",
            "\u001b[K     |████████████████████████████████| 3.1 MB 28.5 MB/s \n",
            "\u001b[?25h"
          ],
          "name": "stdout"
        }
      ]
    },
    {
      "cell_type": "code",
      "metadata": {
        "id": "iYAeA53mgHl1"
      },
      "source": [
        "import numpy as np\n",
        "import matplotlib.pyplot as plt\n",
        "from tensorflow.keras.layers import Input , Conv2D , Dense , Flatten , Dropout\n",
        "from tensorflow.keras.models import Model \n",
        "\n"
      ],
      "execution_count": 71,
      "outputs": []
    },
    {
      "cell_type": "code",
      "metadata": {
        "colab": {
          "base_uri": "https://localhost:8080/"
        },
        "id": "awimydMBc-EL",
        "outputId": "ede8c0ba-56b7-4a46-c9f3-3e0dce320458"
      },
      "source": [
        "#import tensorflow as tf \n",
        "#from tensorflow import keras\n",
        "\n",
        "\n",
        "# fashion mnist \n",
        "fashion_mnist= tf.keras.datasets.fashion_mnist\n",
        "(x_train, y_train),(x_test , y_test)=fashion_mnist.load_data()\n",
        "x_train, y_train = x_test/255.0 , y_test/255.0\n",
        "\n",
        "print(\"x_train data\" , x_train.shape)\n",
        "\n",
        "\n"
      ],
      "execution_count": 76,
      "outputs": [
        {
          "output_type": "stream",
          "text": [
            "x_train data (10000, 28, 28)\n"
          ],
          "name": "stdout"
        }
      ]
    },
    {
      "cell_type": "code",
      "metadata": {
        "colab": {
          "base_uri": "https://localhost:8080/"
        },
        "id": "68-Wnm0GhPr8",
        "outputId": "d29406ca-e083-46b8-e5fb-161c381dd339"
      },
      "source": [
        "# the data is only 2D\n",
        "x_train= np.expand_dims(x_train, -1 )\n",
        "x_test =np.expand_dims(x_test, -1)\n",
        "print ( x_train.shape )"
      ],
      "execution_count": 77,
      "outputs": [
        {
          "output_type": "stream",
          "text": [
            "(10000, 28, 28, 1)\n"
          ],
          "name": "stdout"
        }
      ]
    },
    {
      "cell_type": "code",
      "metadata": {
        "colab": {
          "base_uri": "https://localhost:8080/"
        },
        "id": "9RT0E-zai4o1",
        "outputId": "10e946eb-5c2a-40b2-ce6e-4319b52011f3"
      },
      "source": [
        "#number of classes \n",
        "K= len(set (y_train))\n",
        "print ('number of classes' , K)"
      ],
      "execution_count": 78,
      "outputs": [
        {
          "output_type": "stream",
          "text": [
            "number of classes 10\n"
          ],
          "name": "stdout"
        }
      ]
    },
    {
      "cell_type": "code",
      "metadata": {
        "id": "hwnFd9Ujjh1a"
      },
      "source": [
        "i= Input(shape =x_train[0].shape)\n",
        "x = Conv2D(32 ,(3, 3), strides=2, activation='relu')(i)\n",
        "x = Conv2D(64 ,(3, 3), strides=2, activation='relu')(x)\n",
        "\n",
        "x = Conv2D(128 ,(3, 3), strides=2, activation='relu')(x)\n",
        "x= Flatten()(x)\n",
        "x= Dropout (0.2 )(x)\n",
        "x= Dense(K , activation='softmax')(x)\n",
        "model = Model(i , x )"
      ],
      "execution_count": 79,
      "outputs": []
    },
    {
      "cell_type": "code",
      "metadata": {
        "colab": {
          "base_uri": "https://localhost:8080/"
        },
        "id": "t0VYBwv7nr2A",
        "outputId": "3c8ea5f4-b36d-4b5d-c3b4-88ed4c17a90d"
      },
      "source": [
        "model.compile(optimizer='adam', loss='sparse_categorical_crossentropy', metrics=['accuracy'])\n",
        "r = model.fit(x_train , y_train , validation_data=(x_test , y_test), epochs= 15 )"
      ],
      "execution_count": 80,
      "outputs": [
        {
          "output_type": "stream",
          "text": [
            "Epoch 1/15\n",
            "313/313 [==============================] - 5s 14ms/step - loss: 0.0397 - accuracy: 0.0997 - val_loss: 11086.3740 - val_accuracy: 0.1000\n",
            "Epoch 2/15\n",
            "313/313 [==============================] - 4s 14ms/step - loss: 3.3379e-10 - accuracy: 0.1000 - val_loss: 11086.3896 - val_accuracy: 0.1000\n",
            "Epoch 3/15\n",
            "313/313 [==============================] - 4s 14ms/step - loss: 3.4571e-10 - accuracy: 0.1000 - val_loss: 11086.4053 - val_accuracy: 0.1000\n",
            "Epoch 4/15\n",
            "313/313 [==============================] - 4s 14ms/step - loss: 5.6028e-10 - accuracy: 0.1000 - val_loss: 11086.4678 - val_accuracy: 0.1000\n",
            "Epoch 5/15\n",
            "313/313 [==============================] - 4s 14ms/step - loss: 2.8610e-10 - accuracy: 0.1000 - val_loss: 11086.5020 - val_accuracy: 0.1000\n",
            "Epoch 6/15\n",
            "313/313 [==============================] - 4s 14ms/step - loss: 4.4107e-10 - accuracy: 0.1000 - val_loss: 11086.5898 - val_accuracy: 0.1000\n",
            "Epoch 7/15\n",
            "313/313 [==============================] - 4s 14ms/step - loss: 5.7220e-10 - accuracy: 0.1000 - val_loss: 11086.7100 - val_accuracy: 0.1000\n",
            "Epoch 8/15\n",
            "313/313 [==============================] - 4s 14ms/step - loss: 2.3842e-10 - accuracy: 0.1000 - val_loss: 11086.8037 - val_accuracy: 0.1000\n",
            "Epoch 9/15\n",
            "313/313 [==============================] - 4s 14ms/step - loss: 3.6955e-10 - accuracy: 0.1000 - val_loss: 11086.9404 - val_accuracy: 0.1000\n",
            "Epoch 10/15\n",
            "313/313 [==============================] - 4s 14ms/step - loss: 4.1723e-10 - accuracy: 0.1000 - val_loss: 11087.1074 - val_accuracy: 0.1000\n",
            "Epoch 11/15\n",
            "313/313 [==============================] - 4s 14ms/step - loss: 6.0797e-10 - accuracy: 0.1000 - val_loss: 11087.4346 - val_accuracy: 0.1000\n",
            "Epoch 12/15\n",
            "313/313 [==============================] - 4s 14ms/step - loss: 8.3446e-10 - accuracy: 0.1000 - val_loss: 11087.9678 - val_accuracy: 0.1000\n",
            "Epoch 13/15\n",
            "313/313 [==============================] - 5s 16ms/step - loss: 5.0068e-10 - accuracy: 0.1000 - val_loss: 11088.3477 - val_accuracy: 0.1000\n",
            "Epoch 14/15\n",
            "313/313 [==============================] - 4s 14ms/step - loss: 3.8147e-10 - accuracy: 0.1000 - val_loss: 11088.7197 - val_accuracy: 0.1000\n",
            "Epoch 15/15\n",
            "313/313 [==============================] - 4s 14ms/step - loss: 2.3842e-10 - accuracy: 0.1000 - val_loss: 11089.0439 - val_accuracy: 0.1000\n"
          ],
          "name": "stdout"
        }
      ]
    },
    {
      "cell_type": "code",
      "metadata": {
        "colab": {
          "base_uri": "https://localhost:8080/",
          "height": 282
        },
        "id": "QhkQEphBrleg",
        "outputId": "5bb32536-df86-460e-86bd-c8664665ba9e"
      },
      "source": [
        "import matplotlib.pyplot as plt\n",
        "plt.plot(r.history['loss'] , label ='loss')\n",
        "plt.plot(r.history['val_loss'] , label ='val_loss')\n",
        "plt.legend()\n"
      ],
      "execution_count": 81,
      "outputs": [
        {
          "output_type": "execute_result",
          "data": {
            "text/plain": [
              "<matplotlib.legend.Legend at 0x7f1452d51050>"
            ]
          },
          "metadata": {},
          "execution_count": 81
        },
        {
          "output_type": "display_data",
          "data": {
            "image/png": "[encoded data removed]",
            "text/plain": [
              "<Figure size 432x288 with 1 Axes>"
            ]
          },
          "metadata": {
            "needs_background": "light"
          }
        }
      ]
    },
    {
      "cell_type": "code",
      "metadata": {
        "colab": {
          "base_uri": "https://localhost:8080/",
          "height": 282
        },
        "id": "j3I-8wLotM8n",
        "outputId": "a5b6faf5-9391-49f8-ef6f-56a3542fd876"
      },
      "source": [
        "plt.plot(r.history['accuracy'] , label ='accuracy ')\n",
        "plt.plot(r.history['val_accuracy'] , label ='val_accuracy')\n",
        "plt.legend() "
      ],
      "execution_count": 108,
      "outputs": [
        {
          "output_type": "execute_result",
          "data": {
            "text/plain": [
              "<matplotlib.legend.Legend at 0x7f1458e477d0>"
            ]
          },
          "metadata": {},
          "execution_count": 108
        },
        {
          "output_type": "display_data",
          "data": {
            "image/png": "[encoded data removed]",
            "text/plain": [
              "<Figure size 432x288 with 1 Axes>"
            ]
          },
          "metadata": {
            "needs_background": "light"
          }
        }
      ]
    },
    {
      "cell_type": "code",
      "metadata": {
        "colab": {
          "base_uri": "https://localhost:8080/",
          "height": 498
        },
        "id": "Jk5ZQVQvtp1h",
        "outputId": "08ebe77b-a524-4c60-e9ef-294e496c6fb2"
      },
      "source": [
        "from sklearn.metrics import confusion_matrix\n",
        "import itertools\n",
        "\n",
        "def plot_confusion_matrix(cm, classes , normalize = False , title = \"confusion_matrix\" , cmap=plt.cm.Blues ):\n",
        "  if normalize:\n",
        "    cm=cm.astype('float')/cm.sum(axis=1)[:,np.newaxis]\n",
        "    print('Normalize confusion matrix ')\n",
        "  else :\n",
        "      print('confusion matrix without normalization ')\n",
        "  print(cm)\n",
        "  plt.imshow (cm, interpolation='nearest' , cmap=cmap)\n",
        "  plt.title(title)\n",
        "  plt.colorbar()\n",
        "  tick_marks=np.arange(len(classes))\n",
        "  plt.xticks(tick_marks, classes , rotation=45)\n",
        "  plt.yticks(tick_marks, classes)\n",
        "\n",
        "  fmt='.2f' if normalize else 'd'\n",
        "  thresh = cm.max() / 2.\n",
        "  for i, j in itertools.product(range(cm.shape[0]), range(cm.shape[1])): \n",
        "        plt.text(j, i, format(cm[i, j], fmt), \n",
        "                 horizontalalignment=\"center\", color=\"white\" if cm[i, j]> thresh else  \"black\")\n",
        "    \n",
        "  plt.tight_layout()\n",
        "  plt.ylabel('True label')\n",
        "  plt.xlabel( 'Predicted label') \n",
        "  plt.show()\n",
        "    \n",
        "p_test = model.predict (x_test).argmax (axis=1) \n",
        "cm = confusion_matrix(y_test, p_test) \n",
        "plot_confusion_matrix(cm, list(range(10)))"
      ],
      "execution_count": 117,
      "outputs": [
        {
          "output_type": "stream",
          "text": [
            "confusion matrix without normalization \n",
            "[[1000    0    0    0    0    0    0    0    0    0]\n",
            " [1000    0    0    0    0    0    0    0    0    0]\n",
            " [1000    0    0    0    0    0    0    0    0    0]\n",
            " [1000    0    0    0    0    0    0    0    0    0]\n",
            " [1000    0    0    0    0    0    0    0    0    0]\n",
            " [1000    0    0    0    0    0    0    0    0    0]\n",
            " [1000    0    0    0    0    0    0    0    0    0]\n",
            " [1000    0    0    0    0    0    0    0    0    0]\n",
            " [1000    0    0    0    0    0    0    0    0    0]\n",
            " [1000    0    0    0    0    0    0    0    0    0]]\n"
          ],
          "name": "stdout"
        },
        {
          "output_type": "display_data",
          "data": {
            "image/png": "[encoded data removed]",
            "text/plain": [
              "<Figure size 432x288 with 2 Axes>"
            ]
          },
          "metadata": {
            "needs_background": "light"
          }
        }
      ]
    },
    {
      "cell_type": "code",
      "metadata": {
        "colab": {
          "base_uri": "https://localhost:8080/",
          "height": 446
        },
        "id": "Ygwsblxw5J1g",
        "outputId": "e3a4e97a-39be-4bab-bf32-9f416007a47f"
      },
      "source": [
        "misclassified_idx= np.where (p_test != y_test)[0] \n",
        "i = np.random.choice (misclassified_idx)\n",
        "plt.imshow (x_test[i].reshape (28,28), cmap= \"gray\")\n",
        "\n",
        "# Show some misclassified examples\n",
        "\n",
        "plt.title(\"True label:%s Predicted: %s\" % (labels[y_test[i]], labels[p_test[i]]));"
      ],
      "execution_count": 126,
      "outputs": [
        {
          "output_type": "error",
          "ename": "NameError",
          "evalue": "ignored",
          "traceback": [
            "\u001b[0;31m---------------------------------------------------------------------------\u001b[0m",
            "\u001b[0;31mNameError\u001b[0m                                 Traceback (most recent call last)",
            "\u001b[0;32m<ipython-input-126-c12f082e22dd>\u001b[0m in \u001b[0;36m<module>\u001b[0;34m()\u001b[0m\n\u001b[1;32m      5\u001b[0m \u001b[0;31m# Show some misclassified examples\u001b[0m\u001b[0;34m\u001b[0m\u001b[0;34m\u001b[0m\u001b[0;34m\u001b[0m\u001b[0m\n\u001b[1;32m      6\u001b[0m \u001b[0;34m\u001b[0m\u001b[0m\n\u001b[0;32m----> 7\u001b[0;31m \u001b[0mplt\u001b[0m\u001b[0;34m.\u001b[0m\u001b[0mtitle\u001b[0m\u001b[0;34m(\u001b[0m\u001b[0;34m\"True label:%s Predicted: %s\"\u001b[0m \u001b[0;34m%\u001b[0m \u001b[0;34m(\u001b[0m\u001b[0mlabels\u001b[0m\u001b[0;34m[\u001b[0m\u001b[0my_test\u001b[0m\u001b[0;34m[\u001b[0m\u001b[0mi\u001b[0m\u001b[0;34m]\u001b[0m\u001b[0;34m]\u001b[0m\u001b[0;34m,\u001b[0m \u001b[0mlabels\u001b[0m\u001b[0;34m[\u001b[0m\u001b[0mp_test\u001b[0m\u001b[0;34m[\u001b[0m\u001b[0mi\u001b[0m\u001b[0;34m]\u001b[0m\u001b[0;34m]\u001b[0m\u001b[0;34m)\u001b[0m\u001b[0;34m)\u001b[0m\u001b[0;34m;\u001b[0m\u001b[0;34m\u001b[0m\u001b[0;34m\u001b[0m\u001b[0m\n\u001b[0m",
            "\u001b[0;31mNameError\u001b[0m: name 'labels' is not defined"
          ]
        },
        {
          "output_type": "display_data",
          "data": {
            "image/png": "[encoded data removed]",
            "text/plain": [
              "<Figure size 432x288 with 1 Axes>"
            ]
          },
          "metadata": {
            "needs_background": "light"
          }
        }
      ]
    }
  ]
}